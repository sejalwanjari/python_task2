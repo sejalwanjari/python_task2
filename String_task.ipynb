{
 "cells": [
  {
   "cell_type": "markdown",
   "id": "52e1af4c-b7f2-4d94-b0e7-6b0513be8b13",
   "metadata": {},
   "source": [
    "### String Functions"
   ]
  },
  {
   "cell_type": "markdown",
   "id": "d10b2a34-f146-4d36-9ec0-11e461a95bde",
   "metadata": {},
   "source": [
    "#### 1.capitalize()"
   ]
  },
  {
   "cell_type": "code",
   "execution_count": 88,
   "id": "1373261d-6e71-4b75-8f88-48ef188c1740",
   "metadata": {},
   "outputs": [
    {
     "name": "stdout",
     "output_type": "stream",
     "text": [
      "Hello, and welcome to my world.\n"
     ]
    }
   ],
   "source": [
    "cap1 = \"hello, and welcome to my world.\"\n",
    "\n",
    "x = cap1.capitalize()\n",
    "\n",
    "print (x)"
   ]
  },
  {
   "cell_type": "code",
   "execution_count": 86,
   "id": "d6117f8a-cbaf-4506-948a-ac21b2381ab5",
   "metadata": {},
   "outputs": [
    {
     "name": "stdout",
     "output_type": "stream",
     "text": [
      "Hello, this is sejal wanjari and welcome to my world\n"
     ]
    }
   ],
   "source": [
    "cap2 = \"hello, this is sejal wanjari and welcome to my world\"\n",
    "\n",
    "x = cap2.capitalize()\n",
    "\n",
    "print (x)"
   ]
  },
  {
   "cell_type": "markdown",
   "id": "4ba47f19-9b8e-4b8e-948e-86189156d493",
   "metadata": {},
   "source": [
    "#### 2.casefold()"
   ]
  },
  {
   "cell_type": "code",
   "execution_count": 90,
   "id": "ff9c6089-b2b0-44eb-b082-778cf8b57fb9",
   "metadata": {},
   "outputs": [
    {
     "name": "stdout",
     "output_type": "stream",
     "text": [
      "hello, and welcome to my world!\n"
     ]
    }
   ],
   "source": [
    "case1 = \"Hello, And Welcome To My World!\"\n",
    "\n",
    "x = case1.casefold()\n",
    "\n",
    "print(x)"
   ]
  },
  {
   "cell_type": "code",
   "execution_count": 92,
   "id": "319ccea1-4c93-4bf0-9b0e-7f503f4675d0",
   "metadata": {},
   "outputs": [
    {
     "name": "stdout",
     "output_type": "stream",
     "text": [
      "python is a programming language\n"
     ]
    }
   ],
   "source": [
    "case2 = \"PYTHON IS A PROGRAMMING LANGUAGE\"\n",
    "\n",
    "x = case2.casefold()\n",
    "\n",
    "print(x)"
   ]
  },
  {
   "cell_type": "markdown",
   "id": "06a88173-23b1-4071-a143-f186ce96e290",
   "metadata": {},
   "source": [
    "#### 3.center()"
   ]
  },
  {
   "cell_type": "code",
   "execution_count": 38,
   "id": "b39caa42-304b-4b95-974c-a10472e28ecf",
   "metadata": {},
   "outputs": [
    {
     "name": "stdout",
     "output_type": "stream",
     "text": [
      "                Apple is an fruit                 \n"
     ]
    }
   ],
   "source": [
    "cent1 = \"Apple is an fruit\"\n",
    "\n",
    "x = cent1.center(50)\n",
    "\n",
    "print(x)"
   ]
  },
  {
   "cell_type": "code",
   "execution_count": 40,
   "id": "7b953468-d5a8-4f4b-a95e-b844cb06ba14",
   "metadata": {},
   "outputs": [
    {
     "name": "stdout",
     "output_type": "stream",
     "text": [
      "                                             Google.com                                             \n"
     ]
    }
   ],
   "source": [
    "cent2 = \"Google.com\"\n",
    "\n",
    "x = cent2.center(100)\n",
    "\n",
    "print(x)"
   ]
  },
  {
   "cell_type": "markdown",
   "id": "7dd35c58-ed6b-486e-ba97-e38d89a0ae91",
   "metadata": {},
   "source": [
    "#### 4.count()"
   ]
  },
  {
   "cell_type": "code",
   "execution_count": 102,
   "id": "200e640a-a4dc-4e6c-b070-d2140c48e20a",
   "metadata": {},
   "outputs": [
    {
     "name": "stdout",
     "output_type": "stream",
     "text": [
      "2\n"
     ]
    }
   ],
   "source": [
    "count1 = \"I love banana, banana is my favorite fruit\"\n",
    "\n",
    "x = count1.count(\"banana\")\n",
    "\n",
    "print(x)"
   ]
  },
  {
   "cell_type": "code",
   "execution_count": 116,
   "id": "80d518f6-1ec0-4686-b4ab-0e8496d75b00",
   "metadata": {},
   "outputs": [
    {
     "name": "stdout",
     "output_type": "stream",
     "text": [
      "3\n"
     ]
    }
   ],
   "source": [
    "count2 = \"jingle bells, jingle bells, jingle all the way \"\n",
    "\n",
    "x = count2.count(\"jingle\")\n",
    "\n",
    "print(x)"
   ]
  },
  {
   "cell_type": "markdown",
   "id": "9b631937-cd4f-4a0e-b62e-dc7fd013c167",
   "metadata": {},
   "source": [
    "#### 5.endswith()"
   ]
  },
  {
   "cell_type": "code",
   "execution_count": 122,
   "id": "cad5a1d5-cb8d-4b48-ae61-3039ba9c389b",
   "metadata": {},
   "outputs": [
    {
     "name": "stdout",
     "output_type": "stream",
     "text": [
      "True\n"
     ]
    }
   ],
   "source": [
    "X = \"Hello, welcome to my world.\"\n",
    "\n",
    "Y = A.endswith(\".\")\n",
    "\n",
    "print(Y)"
   ]
  },
  {
   "cell_type": "code",
   "execution_count": 25,
   "id": "b35e4d6f-af6c-40f8-9a68-3bd7124200e7",
   "metadata": {},
   "outputs": [
    {
     "name": "stdout",
     "output_type": "stream",
     "text": [
      "True\n"
     ]
    }
   ],
   "source": [
    "X = \"Python is a programming language!\"\n",
    "\n",
    "Y = X.endswith(\"language!\")\n",
    "\n",
    "print(Y)"
   ]
  },
  {
   "cell_type": "markdown",
   "id": "eef371be-1aac-4fe6-a8fd-2b09622dc159",
   "metadata": {},
   "source": [
    "#### 6.expandtabs()"
   ]
  },
  {
   "cell_type": "code",
   "execution_count": 28,
   "id": "ea825525-6cb9-40da-9a4f-f94bfdbf1a92",
   "metadata": {},
   "outputs": [
    {
     "name": "stdout",
     "output_type": "stream",
     "text": [
      "H e l l o\n"
     ]
    }
   ],
   "source": [
    "text = \"H\\te\\tl\\tl\\to\"\n",
    "\n",
    "x =  text.expandtabs(2)\n",
    "\n",
    "print(x)"
   ]
  },
  {
   "cell_type": "code",
   "execution_count": 82,
   "id": "6d21e46f-6aa2-4577-a915-23888902a055",
   "metadata": {},
   "outputs": [
    {
     "name": "stdout",
     "output_type": "stream",
     "text": [
      "H e l l o   W o r l d\n"
     ]
    }
   ],
   "source": [
    "text = \"H\\te\\tl\\tl\\to \\tW\\to\\tr\\tl\\td\"\n",
    "\n",
    "x =  text.expandtabs(2)\n",
    "\n",
    "print(x)"
   ]
  },
  {
   "cell_type": "markdown",
   "id": "30a383e8-7e31-4958-84f9-19d0050654ff",
   "metadata": {},
   "source": [
    "#### 7.find()"
   ]
  },
  {
   "cell_type": "code",
   "execution_count": 85,
   "id": "11eab64b-5b5f-4a48-849f-d8976bfe4d95",
   "metadata": {},
   "outputs": [
    {
     "name": "stdout",
     "output_type": "stream",
     "text": [
      "10\n"
     ]
    }
   ],
   "source": [
    "text = \"this is a 9th batch of data analyst.\"\n",
    "\n",
    "x = text.find(\"9\")\n",
    "\n",
    "print(x)"
   ]
  },
  {
   "cell_type": "code",
   "execution_count": 87,
   "id": "39d2010a-0e50-41d5-ba99-929069d9f066",
   "metadata": {},
   "outputs": [
    {
     "name": "stdout",
     "output_type": "stream",
     "text": [
      "10\n"
     ]
    }
   ],
   "source": [
    "text = \"timing is 6 to 7 pm\"\n",
    "\n",
    "x = text.find(\"6\")\n",
    "\n",
    "print(x)"
   ]
  },
  {
   "cell_type": "markdown",
   "id": "33dfc923-9ddb-4b5d-a35a-731c1b49abaf",
   "metadata": {},
   "source": [
    "#### 8.index()"
   ]
  },
  {
   "cell_type": "code",
   "execution_count": 101,
   "id": "faf91c71-d752-4923-91f2-359a7bf57d7c",
   "metadata": {},
   "outputs": [
    {
     "name": "stdout",
     "output_type": "stream",
     "text": [
      "7\n"
     ]
    }
   ],
   "source": [
    "text = \"Hello, welcome to my world.\"\n",
    "\n",
    "x = text.index(\"welcome\")\n",
    "\n",
    "print(x)"
   ]
  },
  {
   "cell_type": "markdown",
   "id": "4822e02e-6a9c-41a9-8e19-e5b0554901eb",
   "metadata": {},
   "source": [
    "#### 9.isalnum()"
   ]
  },
  {
   "cell_type": "code",
   "execution_count": 133,
   "id": "50e13f48-9a9e-4bef-bd3d-1c06756fd6e4",
   "metadata": {},
   "outputs": [
    {
     "name": "stdout",
     "output_type": "stream",
     "text": [
      "True\n"
     ]
    }
   ],
   "source": [
    "text = \"Arcda9\"\n",
    "\n",
    "x = text.isalnum()\n",
    "\n",
    "print(x)"
   ]
  },
  {
   "cell_type": "code",
   "execution_count": 139,
   "id": "7f758b7b-e23d-4084-8f02-bf2a01fd2ea1",
   "metadata": {},
   "outputs": [
    {
     "name": "stdout",
     "output_type": "stream",
     "text": [
      "True\n"
     ]
    }
   ],
   "source": [
    "text = \"ID45678\"\n",
    "\n",
    "x = text.isalnum()\n",
    "\n",
    "print(x)"
   ]
  },
  {
   "cell_type": "markdown",
   "id": "8a4f5229-73c9-4169-b5a6-88d518e7858d",
   "metadata": {},
   "source": [
    "#### 10.isalpha()"
   ]
  },
  {
   "cell_type": "code",
   "execution_count": 148,
   "id": "6448006d-de74-428b-92df-4d37f0bb411c",
   "metadata": {},
   "outputs": [
    {
     "name": "stdout",
     "output_type": "stream",
     "text": [
      "False\n"
     ]
    }
   ],
   "source": [
    "txt = \"Company12\"\n",
    "\n",
    "x = txt.isalpha()\n",
    "\n",
    "print(x)"
   ]
  },
  {
   "cell_type": "code",
   "execution_count": 150,
   "id": "96042af7-8704-4981-9208-91f13f14c1c9",
   "metadata": {},
   "outputs": [
    {
     "name": "stdout",
     "output_type": "stream",
     "text": [
      "True\n"
     ]
    }
   ],
   "source": [
    "text = \"Intel\"\n",
    "\n",
    "x = text.isalpha()\n",
    "\n",
    "print(x)"
   ]
  },
  {
   "cell_type": "markdown",
   "id": "52184cf6-3310-41ae-aaf9-be37dd4febb3",
   "metadata": {},
   "source": [
    "#### 11.isdecimal()"
   ]
  },
  {
   "cell_type": "code",
   "execution_count": 157,
   "id": "aa9c1128-4fea-4950-9d29-d3303ee634c6",
   "metadata": {},
   "outputs": [
    {
     "name": "stdout",
     "output_type": "stream",
     "text": [
      "True\n"
     ]
    }
   ],
   "source": [
    "a = \"45678\"\n",
    "\n",
    "x = a.isdecimal()\n",
    "\n",
    "print(x)"
   ]
  },
  {
   "cell_type": "code",
   "execution_count": 165,
   "id": "17644ea4-2935-4e3a-abfe-219b306ff56e",
   "metadata": {},
   "outputs": [
    {
     "name": "stdout",
     "output_type": "stream",
     "text": [
      "False\n"
     ]
    }
   ],
   "source": [
    "a = \"no-9865443567\"\n",
    "\n",
    "x = a.isdecimal()\n",
    "\n",
    "print(x)"
   ]
  },
  {
   "cell_type": "markdown",
   "id": "1125121a-fb26-4210-a3a0-566b5084a7df",
   "metadata": {},
   "source": [
    "#### 12.islower()"
   ]
  },
  {
   "cell_type": "code",
   "execution_count": 183,
   "id": "2126da9e-37d9-4b08-b99b-a64487f860b6",
   "metadata": {},
   "outputs": [
    {
     "name": "stdout",
     "output_type": "stream",
     "text": [
      "True\n"
     ]
    }
   ],
   "source": [
    "a = \"data analyst!\"\n",
    "\n",
    "x = a.islower()\n",
    "\n",
    "print(x)"
   ]
  },
  {
   "cell_type": "code",
   "execution_count": 185,
   "id": "e8f0ce1d-aad2-47e8-9c1b-165d6bef2a9d",
   "metadata": {},
   "outputs": [
    {
     "name": "stdout",
     "output_type": "stream",
     "text": [
      "False\n"
     ]
    }
   ],
   "source": [
    "a = \"Python is a Programming Language.\"\n",
    "\n",
    "x = a.islower()\n",
    "\n",
    "print(x)"
   ]
  },
  {
   "cell_type": "markdown",
   "id": "76a5844f-ba14-471e-ad7c-35602c6d328a",
   "metadata": {},
   "source": [
    "#### 13.isspace()"
   ]
  },
  {
   "cell_type": "code",
   "execution_count": 222,
   "id": "405e7bb2-eca4-41cb-a80f-53ff8ae22209",
   "metadata": {},
   "outputs": [
    {
     "name": "stdout",
     "output_type": "stream",
     "text": [
      "True\n"
     ]
    }
   ],
   "source": [
    "a = \"   \"\n",
    "\n",
    "x = a.isspace()\n",
    "\n",
    "print(x)"
   ]
  },
  {
   "cell_type": "code",
   "execution_count": 224,
   "id": "b0481bd7-81aa-4e2c-9cd7-83e13dd37fd5",
   "metadata": {},
   "outputs": [
    {
     "name": "stdout",
     "output_type": "stream",
     "text": [
      "False\n"
     ]
    }
   ],
   "source": [
    "a = \" ARC \"\n",
    "\n",
    "x = a.isspace()\n",
    "\n",
    "print(x)"
   ]
  },
  {
   "cell_type": "markdown",
   "id": "5331a9fe-204b-4856-b4fd-2bb3170b1084",
   "metadata": {},
   "source": [
    "#### 14.istitle()"
   ]
  },
  {
   "cell_type": "code",
   "execution_count": 232,
   "id": "ee984b57-d404-48c6-ac62-75b4649a4136",
   "metadata": {},
   "outputs": [
    {
     "name": "stdout",
     "output_type": "stream",
     "text": [
      "True\n"
     ]
    }
   ],
   "source": [
    "a = \"This Is My First Presentation\"\n",
    "\n",
    "x = a.istitle()\n",
    "\n",
    "print(x)"
   ]
  },
  {
   "cell_type": "code",
   "execution_count": 234,
   "id": "678cd161-9aef-4e47-b62e-b3867fe5b363",
   "metadata": {},
   "outputs": [
    {
     "name": "stdout",
     "output_type": "stream",
     "text": [
      "False\n"
     ]
    }
   ],
   "source": [
    "a = \"Tomorrow is my Birthday\"\n",
    "\n",
    "x = a.istitle()\n",
    "\n",
    "print(x)"
   ]
  },
  {
   "cell_type": "markdown",
   "id": "58fdee9a-3dd8-4939-88b5-1217cb89f09e",
   "metadata": {},
   "source": [
    "#### 15.isupper()"
   ]
  },
  {
   "cell_type": "code",
   "execution_count": 258,
   "id": "348f971e-209f-4bc7-a488-0c627c29d76c",
   "metadata": {},
   "outputs": [
    {
     "name": "stdout",
     "output_type": "stream",
     "text": [
      "True\n"
     ]
    }
   ],
   "source": [
    "a = \"TODAY IS DIWALI\"\n",
    "\n",
    "x = a.isupper()\n",
    "\n",
    "print(x)"
   ]
  },
  {
   "cell_type": "code",
   "execution_count": 260,
   "id": "65fcde1f-0e76-4ffc-828e-b42107f56602",
   "metadata": {},
   "outputs": [
    {
     "name": "stdout",
     "output_type": "stream",
     "text": [
      "False\n"
     ]
    }
   ],
   "source": [
    "a = \"Today is Diwali?\"\n",
    "\n",
    "x = a.isupper()\n",
    "\n",
    "print(x)"
   ]
  },
  {
   "cell_type": "markdown",
   "id": "0a00e5b8-8455-4f61-a3f2-7094622ce639",
   "metadata": {},
   "source": [
    "#### 16.join()"
   ]
  },
  {
   "cell_type": "code",
   "execution_count": 250,
   "id": "aab97412-7178-4b99-bf71-332c34795652",
   "metadata": {},
   "outputs": [
    {
     "name": "stdout",
     "output_type": "stream",
     "text": [
      "Sejal-Sunil-Wanjari\n"
     ]
    }
   ],
   "source": [
    "my_Tuple = (\"Sejal\", \"Sunil\", \"Wanjari\")\n",
    "\n",
    "x = \"-\".join(my_Tuple)\n",
    "\n",
    "print(x)"
   ]
  },
  {
   "cell_type": "code",
   "execution_count": 279,
   "id": "140028aa-aaf5-4745-8c87-41b0f89e2dda",
   "metadata": {},
   "outputs": [
    {
     "name": "stdout",
     "output_type": "stream",
     "text": [
      "name - Batch\n"
     ]
    }
   ],
   "source": [
    "my_Dict = {\"name\": \"Sejal\", \"Batch\": \"DA9\"}\n",
    "my_Separator = \" - \"\n",
    "\n",
    "a = mySeparator.join(myDict)\n",
    "\n",
    "print(a)"
   ]
  },
  {
   "cell_type": "markdown",
   "id": "cabc4772-b7a8-4548-9d31-a142ca72424b",
   "metadata": {},
   "source": [
    "#### 17.lower()"
   ]
  },
  {
   "cell_type": "code",
   "execution_count": 285,
   "id": "9af00e18-56a7-45e5-9b79-73be8d261f99",
   "metadata": {},
   "outputs": [
    {
     "name": "stdout",
     "output_type": "stream",
     "text": [
      "good morning everyone\n"
     ]
    }
   ],
   "source": [
    "x = \"Good Morning Everyone\"\n",
    "\n",
    "y = x.lower()\n",
    "\n",
    "print(y)"
   ]
  },
  {
   "cell_type": "code",
   "execution_count": 289,
   "id": "9f3234bc-d559-4fbe-bd9c-6b6903ac2f01",
   "metadata": {},
   "outputs": [
    {
     "name": "stdout",
     "output_type": "stream",
     "text": [
      "welcome to the world of galaxy\n"
     ]
    }
   ],
   "source": [
    "a = \"Welcome to the world of Galaxy\"\n",
    "\n",
    "b = a.lower()\n",
    "\n",
    "print(b)"
   ]
  },
  {
   "cell_type": "markdown",
   "id": "5ed5ac4e-d2dc-48b1-9f66-75bf70c896bc",
   "metadata": {},
   "source": [
    "#### 18.lstrip()"
   ]
  },
  {
   "cell_type": "code",
   "execution_count": 326,
   "id": "06daa63c-4f21-478d-9768-dc825163b0ff",
   "metadata": {},
   "outputs": [
    {
     "name": "stdout",
     "output_type": "stream",
     "text": [
      "Python\n"
     ]
    }
   ],
   "source": [
    "a = \",,,,,ssaawwfg.....Python\"\n",
    "\n",
    "b = a.lstrip(\",.aswfg\")\n",
    "\n",
    "print(x)"
   ]
  },
  {
   "cell_type": "code",
   "execution_count": 358,
   "id": "b9da2850-f7ec-467c-b57c-bc442723c744",
   "metadata": {},
   "outputs": [
    {
     "name": "stdout",
     "output_type": "stream",
     "text": [
      "of all colours Purple is my favorite colour\n"
     ]
    }
   ],
   "source": [
    "a = \"     Purple\"\n",
    "\n",
    "b = a.lstrip()\n",
    "\n",
    "print(\"of all colours\", b, \"is my favorite colour\")"
   ]
  },
  {
   "cell_type": "markdown",
   "id": "bfc1a927-380f-4d0a-b53a-ed111c5f32d9",
   "metadata": {},
   "source": [
    "#### 19.maketrans()"
   ]
  },
  {
   "cell_type": "code",
   "execution_count": 376,
   "id": "4737b0c6-433e-4301-8d5f-b8ce9026362b",
   "metadata": {},
   "outputs": [
    {
     "name": "stdout",
     "output_type": "stream",
     "text": [
      "Hello Jam!\n"
     ]
    }
   ],
   "source": [
    "text = \"Hello Sam!\"\n",
    "mytable = str.maketrans(\"S\", \"J\")\n",
    "print(text.translate(mytable))"
   ]
  },
  {
   "cell_type": "markdown",
   "id": "52439714-b67f-4fc5-b259-d31fcf92c631",
   "metadata": {},
   "source": [
    "#### 20.partition()"
   ]
  },
  {
   "cell_type": "code",
   "execution_count": 386,
   "id": "5767abb2-ea97-4c8c-b836-6269ac7fdd4e",
   "metadata": {},
   "outputs": [
    {
     "name": "stdout",
     "output_type": "stream",
     "text": [
      "('I can wear this ', 'shirt', ' all day ')\n"
     ]
    }
   ],
   "source": [
    "a = \"I can wear this shirt all day \"\n",
    "\n",
    "x = a.partition(\"shirt\")\n",
    "\n",
    "print(x)"
   ]
  },
  {
   "cell_type": "code",
   "execution_count": 403,
   "id": "093905e2-8010-4e0b-9414-403cd7c85df0",
   "metadata": {},
   "outputs": [
    {
     "name": "stdout",
     "output_type": "stream",
     "text": [
      "('I have an very ', 'important', ' meeting today!')\n"
     ]
    }
   ],
   "source": [
    "x = \"I have an very important meeting today!\"\n",
    "\n",
    "y = x.partition(\"important\")\n",
    "\n",
    "print(y)"
   ]
  },
  {
   "cell_type": "markdown",
   "id": "de86f115-d73e-4b3b-a763-07f4b943e119",
   "metadata": {},
   "source": [
    "#### 21.replace()"
   ]
  },
  {
   "cell_type": "code",
   "execution_count": 407,
   "id": "2a751969-e705-444d-a11f-b15103922cf0",
   "metadata": {},
   "outputs": [
    {
     "name": "stdout",
     "output_type": "stream",
     "text": [
      "One Two Three Four\n"
     ]
    }
   ],
   "source": [
    "a = \"One Twoo Three Four\"\n",
    "\n",
    "b = a.replace(\"Twoo\", \"Two\")\n",
    "\n",
    "print(b)"
   ]
  },
  {
   "cell_type": "code",
   "execution_count": 413,
   "id": "005f985c-273b-4203-8419-1b010b6f217b",
   "metadata": {},
   "outputs": [
    {
     "name": "stdout",
     "output_type": "stream",
     "text": [
      "I like Oranges\n"
     ]
    }
   ],
   "source": [
    "a = \"I like Apples\"\n",
    "\n",
    "b = a.replace(\"Apples\", \"Oranges\")\n",
    "\n",
    "print(b)"
   ]
  },
  {
   "cell_type": "markdown",
   "id": "9c6ba148-c868-4bde-b8b5-30ddca75176d",
   "metadata": {},
   "source": [
    "#### 22.split()"
   ]
  },
  {
   "cell_type": "code",
   "execution_count": 22,
   "id": "51bd6850-5d8f-4044-bc4a-64ef81e656d7",
   "metadata": {},
   "outputs": [
    {
     "name": "stdout",
     "output_type": "stream",
     "text": [
      "['welcome', 'to', 'the', 'world', 'of', 'galaxy']\n"
     ]
    }
   ],
   "source": [
    "text = \"welcome to the world of galaxy\"\n",
    "\n",
    "x = text.split()\n",
    "\n",
    "print(x)"
   ]
  },
  {
   "cell_type": "code",
   "execution_count": 26,
   "id": "ebe29e5d-68b1-41ea-8324-8612811c5466",
   "metadata": {},
   "outputs": [
    {
     "name": "stdout",
     "output_type": "stream",
     "text": [
      "['red', 'yellow', 'green', 'orange', 'purple#white#brown#black']\n"
     ]
    }
   ],
   "source": [
    "text = \"red#yellow#green#orange#purple#white#brown#black\"\n",
    "\n",
    "x = text.split(\"#\", 4)\n",
    "\n",
    "print(x)"
   ]
  },
  {
   "cell_type": "markdown",
   "id": "f53ba74a-2137-4910-9aaf-23eaef674698",
   "metadata": {},
   "source": [
    "#### 23.rstrip()"
   ]
  },
  {
   "cell_type": "code",
   "execution_count": 33,
   "id": "11d5cce2-5f42-4be2-b2b9-d15fe2b59b9d",
   "metadata": {},
   "outputs": [
    {
     "name": "stdout",
     "output_type": "stream",
     "text": [
      "It is a programming language\n"
     ]
    }
   ],
   "source": [
    "text = \"programming     \"\n",
    "\n",
    "x = text.rstrip()\n",
    "\n",
    "print(\"It is a\", x, \"language\")"
   ]
  },
  {
   "cell_type": "code",
   "execution_count": 57,
   "id": "d5c8fb6f-51d7-499b-ba32-6571e552a54b",
   "metadata": {},
   "outputs": [
    {
     "name": "stdout",
     "output_type": "stream",
     "text": [
      "ARC-DA9\n"
     ]
    }
   ],
   "source": [
    "text = \"ARC-DA9,,,,,@ssqqqww...6..\"\n",
    "\n",
    "x = text.rstrip(\",.q@s6w\")\n",
    "\n",
    "print(x)"
   ]
  },
  {
   "cell_type": "markdown",
   "id": "f649d70f-744d-45f4-8214-1a8cd5a51de2",
   "metadata": {},
   "source": [
    "#### 24.splitlines()"
   ]
  },
  {
   "cell_type": "code",
   "execution_count": 81,
   "id": "eeb0d69c-15a4-4458-bbd5-dfebb47c9822",
   "metadata": {},
   "outputs": [
    {
     "name": "stdout",
     "output_type": "stream",
     "text": [
      "['Python Documentation', 'Python String Methods']\n"
     ]
    }
   ],
   "source": [
    "text = \"Python Documentation\\nPython String Methods\"\n",
    "\n",
    "x = text.splitlines()\n",
    "\n",
    "print(x)"
   ]
  },
  {
   "cell_type": "code",
   "execution_count": 89,
   "id": "4834574b-21c4-4ec3-a7e1-3f8763c60f64",
   "metadata": {},
   "outputs": [
    {
     "name": "stdout",
     "output_type": "stream",
     "text": [
      "['Thank you ', 'Visit Again']\n"
     ]
    }
   ],
   "source": [
    "text = \"Thank you \\nVisit Again\"\n",
    "\n",
    "x = text.splitlines()\n",
    "\n",
    "print(x)"
   ]
  },
  {
   "cell_type": "markdown",
   "id": "2f384bce-4b7e-4070-acd8-1afc8e886dc4",
   "metadata": {},
   "source": [
    "#### 25.startswith()"
   ]
  },
  {
   "cell_type": "code",
   "execution_count": 116,
   "id": "c32e24b7-27f1-4568-910e-9329f309dd17",
   "metadata": {},
   "outputs": [
    {
     "name": "stdout",
     "output_type": "stream",
     "text": [
      "True\n"
     ]
    }
   ],
   "source": [
    "text = \"Hello, welcome to my world.\"\n",
    "\n",
    "x = text.startswith(\"Hello\")\n",
    "\n",
    "print(x)"
   ]
  },
  {
   "cell_type": "code",
   "execution_count": 118,
   "id": "a8b83c4e-2f93-46a6-b644-df2e107eb355",
   "metadata": {},
   "outputs": [
    {
     "name": "stdout",
     "output_type": "stream",
     "text": [
      "True\n"
     ]
    }
   ],
   "source": [
    "text = \"Hello, welcome to my world.\"\n",
    "\n",
    "x = text.startswith(\"wel\", 7 ,20)\n",
    "\n",
    "print(x)"
   ]
  },
  {
   "cell_type": "markdown",
   "id": "d60160e6-0710-4a7a-8dd0-418d2cabf42e",
   "metadata": {},
   "source": [
    "#### 26.strip()"
   ]
  },
  {
   "cell_type": "code",
   "execution_count": 137,
   "id": "afb464e1-7246-445d-92fe-bdede04b498c",
   "metadata": {},
   "outputs": [
    {
     "name": "stdout",
     "output_type": "stream",
     "text": [
      "Python is a Programming language\n"
     ]
    }
   ],
   "source": [
    "x = \"     Programming     \"\n",
    "\n",
    "y = x.strip()\n",
    "\n",
    "print(\"Python is a\", y, \"language\")"
   ]
  },
  {
   "cell_type": "code",
   "execution_count": 147,
   "id": "f7047ead-101f-4ad7-b3a2-5120939e5759",
   "metadata": {},
   "outputs": [
    {
     "name": "stdout",
     "output_type": "stream",
     "text": [
      "Python-task\n"
     ]
    }
   ],
   "source": [
    "a = \",,,,,rrttgg..@...Python-task....rrr\"\n",
    "\n",
    "b = a.strip(\",.g@rt\")\n",
    "\n",
    "print(b)"
   ]
  },
  {
   "cell_type": "markdown",
   "id": "5580a908-a79e-46ca-a62b-5cb21ac92ad9",
   "metadata": {},
   "source": [
    "#### 27.swapcase()"
   ]
  },
  {
   "cell_type": "code",
   "execution_count": 152,
   "id": "1a8ad6d6-b4ba-4902-93f7-408f4ca84e34",
   "metadata": {},
   "outputs": [
    {
     "name": "stdout",
     "output_type": "stream",
     "text": [
      "Python Language\n"
     ]
    }
   ],
   "source": [
    "str = \"pYTHON lANGUAGE\"\n",
    "\n",
    "x = str.swapcase()\n",
    "\n",
    "print(x)"
   ]
  },
  {
   "cell_type": "code",
   "execution_count": 169,
   "id": "a4f608e0-a8ed-41c1-b398-d6f8f5bbec19",
   "metadata": {},
   "outputs": [
    {
     "name": "stdout",
     "output_type": "stream",
     "text": [
      "IT'S A PYTHON DOCUMENTATION\n"
     ]
    }
   ],
   "source": [
    "str = \"it's a python documentation\"\n",
    "\n",
    "x = str.swapcase()\n",
    "\n",
    "print(x)"
   ]
  },
  {
   "cell_type": "markdown",
   "id": "4dc3cebf-9c64-4685-b7d1-5c05b54eba17",
   "metadata": {},
   "source": [
    "#### 28.title()"
   ]
  },
  {
   "cell_type": "code",
   "execution_count": 174,
   "id": "81db9779-488f-4623-9360-a1a451a4404c",
   "metadata": {},
   "outputs": [
    {
     "name": "stdout",
     "output_type": "stream",
     "text": [
      "I Have To Wake Up Early In The Morning\n"
     ]
    }
   ],
   "source": [
    "str = \"i have to wake up early in the morning\"\n",
    "\n",
    "x = str.title()\n",
    "\n",
    "print(x)"
   ]
  },
  {
   "cell_type": "code",
   "execution_count": 176,
   "id": "34a0f703-3aa6-4a80-adb9-14ccf5f33194",
   "metadata": {},
   "outputs": [
    {
     "name": "stdout",
     "output_type": "stream",
     "text": [
      "Morning Walk Is Good For Health\n"
     ]
    }
   ],
   "source": [
    "str = \"morning walk is good for health\"\n",
    "\n",
    "x = str.title()\n",
    "\n",
    "print(x)"
   ]
  },
  {
   "cell_type": "markdown",
   "id": "4b06feab-3f31-4277-8eb5-7a0e6287acf9",
   "metadata": {},
   "source": [
    "#### 29.upper()"
   ]
  },
  {
   "cell_type": "code",
   "execution_count": 182,
   "id": "445ecbe4-a363-400f-afa7-a248da0b8fa0",
   "metadata": {},
   "outputs": [
    {
     "name": "stdout",
     "output_type": "stream",
     "text": [
      "JINGLE BELL,JINGLE BELL\n"
     ]
    }
   ],
   "source": [
    "str = \"jingle bell,jingle bell\"\n",
    "\n",
    "x = str.upper()\n",
    "\n",
    "print(x)"
   ]
  },
  {
   "cell_type": "code",
   "execution_count": 184,
   "id": "53da4075-5c33-4a0a-8fe9-5eef8b272eab",
   "metadata": {},
   "outputs": [
    {
     "name": "stdout",
     "output_type": "stream",
     "text": [
      " HAPPY BIRTHDAY \n"
     ]
    }
   ],
   "source": [
    "str = \" happy birthday \"\n",
    "\n",
    "x = str.upper()\n",
    "\n",
    "print(x)"
   ]
  },
  {
   "cell_type": "markdown",
   "id": "c255bd3b-1474-42ee-9ca3-c813a180f7e4",
   "metadata": {},
   "source": [
    "#### 30.zfill()"
   ]
  },
  {
   "cell_type": "code",
   "execution_count": 208,
   "id": "90e2fc91-1f5c-4f2a-8190-54f4c9dfe089",
   "metadata": {},
   "outputs": [
    {
     "name": "stdout",
     "output_type": "stream",
     "text": [
      "0000005098\n"
     ]
    }
   ],
   "source": [
    "num = \"5098\"\n",
    "\n",
    "x = num.zfill(10)\n",
    "\n",
    "print(x)"
   ]
  },
  {
   "cell_type": "code",
   "execution_count": 212,
   "id": "0cadc05c-dbdf-478f-9189-68a2b2cdf1e6",
   "metadata": {},
   "outputs": [
    {
     "name": "stdout",
     "output_type": "stream",
     "text": [
      "000000005678*87\n"
     ]
    }
   ],
   "source": [
    "num = \"5678*87\"\n",
    "\n",
    "x = num.zfill(15)\n",
    "\n",
    "print(x)"
   ]
  }
 ],
 "metadata": {
  "kernelspec": {
   "display_name": "Python 3 (ipykernel)",
   "language": "python",
   "name": "python3"
  },
  "language_info": {
   "codemirror_mode": {
    "name": "ipython",
    "version": 3
   },
   "file_extension": ".py",
   "mimetype": "text/x-python",
   "name": "python",
   "nbconvert_exporter": "python",
   "pygments_lexer": "ipython3",
   "version": "3.12.4"
  }
 },
 "nbformat": 4,
 "nbformat_minor": 5
}
